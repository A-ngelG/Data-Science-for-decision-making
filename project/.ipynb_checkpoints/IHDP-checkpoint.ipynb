{
 "cells": [
  {
   "cell_type": "markdown",
   "metadata": {
    "id": "nCi_99yMYIb1"
   },
   "source": [
    "## Import Packages"
   ]
  },
  {
   "cell_type": "code",
   "execution_count": 32,
   "metadata": {
    "colab": {
     "base_uri": "https://localhost:8080/"
    },
    "id": "LY5zujI2YC37",
    "outputId": "916eb545-a8b3-4959-f90f-18e2658b6611",
    "pycharm": {
     "name": "#%%# Imports\n"
    }
   },
   "outputs": [
    {
     "name": "stdout",
     "output_type": "stream",
     "text": [
      "Requirement already satisfied: econml in /usr/local/lib/python3.7/dist-packages (0.13.0)\n",
      "Requirement already satisfied: pandas in /usr/local/lib/python3.7/dist-packages (from econml) (1.3.5)\n",
      "Requirement already satisfied: lightgbm in /usr/local/lib/python3.7/dist-packages (from econml) (2.2.3)\n",
      "Requirement already satisfied: shap<0.40.0,>=0.38.1 in /usr/local/lib/python3.7/dist-packages (from econml) (0.39.0)\n",
      "Requirement already satisfied: dowhy<0.7 in /usr/local/lib/python3.7/dist-packages (from econml) (0.6)\n",
      "Requirement already satisfied: scikit-learn>0.22.0 in /usr/local/lib/python3.7/dist-packages (from econml) (1.0.2)\n",
      "Requirement already satisfied: statsmodels>=0.10 in /usr/local/lib/python3.7/dist-packages (from econml) (0.10.2)\n",
      "Requirement already satisfied: sparse in /usr/local/lib/python3.7/dist-packages (from econml) (0.13.0)\n",
      "Requirement already satisfied: joblib>=0.13.0 in /usr/local/lib/python3.7/dist-packages (from econml) (1.1.0)\n",
      "Requirement already satisfied: scipy>1.4.0 in /usr/local/lib/python3.7/dist-packages (from econml) (1.4.1)\n",
      "Requirement already satisfied: numpy in /usr/local/lib/python3.7/dist-packages (from econml) (1.21.6)\n",
      "Requirement already satisfied: pydot>=1.4 in /usr/local/lib/python3.7/dist-packages (from dowhy<0.7->econml) (1.4.2)\n",
      "Requirement already satisfied: networkx>=2.0 in /usr/local/lib/python3.7/dist-packages (from dowhy<0.7->econml) (2.6.3)\n",
      "Requirement already satisfied: sympy>=1.4 in /usr/local/lib/python3.7/dist-packages (from dowhy<0.7->econml) (1.7.1)\n",
      "Requirement already satisfied: python-dateutil>=2.7.3 in /usr/local/lib/python3.7/dist-packages (from pandas->econml) (2.8.2)\n",
      "Requirement already satisfied: pytz>=2017.3 in /usr/local/lib/python3.7/dist-packages (from pandas->econml) (2022.1)\n",
      "Requirement already satisfied: pyparsing>=2.1.4 in /usr/local/lib/python3.7/dist-packages (from pydot>=1.4->dowhy<0.7->econml) (3.0.8)\n",
      "Requirement already satisfied: six>=1.5 in /usr/local/lib/python3.7/dist-packages (from python-dateutil>=2.7.3->pandas->econml) (1.15.0)\n",
      "Requirement already satisfied: threadpoolctl>=2.0.0 in /usr/local/lib/python3.7/dist-packages (from scikit-learn>0.22.0->econml) (3.1.0)\n",
      "Requirement already satisfied: slicer==0.0.7 in /usr/local/lib/python3.7/dist-packages (from shap<0.40.0,>=0.38.1->econml) (0.0.7)\n",
      "Requirement already satisfied: tqdm>4.25.0 in /usr/local/lib/python3.7/dist-packages (from shap<0.40.0,>=0.38.1->econml) (4.64.0)\n",
      "Requirement already satisfied: cloudpickle in /usr/local/lib/python3.7/dist-packages (from shap<0.40.0,>=0.38.1->econml) (1.3.0)\n",
      "Requirement already satisfied: numba in /usr/local/lib/python3.7/dist-packages (from shap<0.40.0,>=0.38.1->econml) (0.51.2)\n",
      "Requirement already satisfied: patsy>=0.4.0 in /usr/local/lib/python3.7/dist-packages (from statsmodels>=0.10->econml) (0.5.2)\n",
      "Requirement already satisfied: mpmath>=0.19 in /usr/local/lib/python3.7/dist-packages (from sympy>=1.4->dowhy<0.7->econml) (1.2.1)\n",
      "Requirement already satisfied: setuptools in /usr/local/lib/python3.7/dist-packages (from numba->shap<0.40.0,>=0.38.1->econml) (57.4.0)\n",
      "Requirement already satisfied: llvmlite<0.35,>=0.34.0.dev0 in /usr/local/lib/python3.7/dist-packages (from numba->shap<0.40.0,>=0.38.1->econml) (0.34.0)\n",
      "Requirement already satisfied: pdflatex in /usr/local/lib/python3.7/dist-packages (0.1.3)\n",
      "Requirement already satisfied: attrs<19.0,>=18.2 in /usr/local/lib/python3.7/dist-packages (from pdflatex) (18.2.0)\n"
     ]
    }
   ],
   "source": [
    "!pip install econml\n",
    "!pip install pdflatex"
   ]
  },
  {
   "cell_type": "code",
   "execution_count": 33,
   "metadata": {
    "colab": {
     "base_uri": "https://localhost:8080/"
    },
    "id": "qQARdUIhbRAY",
    "outputId": "66a20536-f20b-4444-fda1-a50128e9084a"
   },
   "outputs": [
    {
     "name": "stdout",
     "output_type": "stream",
     "text": [
      "Mounted at /content/gdrive\n"
     ]
    }
   ],
   "source": [
    "from google.colab import drive\n",
    "drive.mount('/content/gdrive')\n",
    "\n",
    "import matplotlib\n",
    "import matplotlib.pyplot as plt\n",
    "import seaborn as sns\n",
    "\n",
    "import pandas as pd\n",
    "import numpy as np\n",
    "import scipy.stats as st\n",
    "\n",
    "from sklearn.pipeline import Pipeline\n",
    "\n",
    "from sklearn.svm import SVR\n",
    "from sklearn.model_selection import cross_val_score,cross_val_predict,GridSearchCV,train_test_split\n",
    "\n",
    "from sklearn.preprocessing import StandardScaler\n",
    "from sklearn import metrics\n",
    "\n",
    "from econml.metalearners import TLearner\n",
    "from econml.sklearn_extensions.model_selection import GridSearchCVList,WeightedKFold\n",
    "\n",
    "from econml.grf import CausalForest\n",
    "from sklearn.ensemble import RandomForestRegressor, RandomForestClassifier"
   ]
  },
  {
   "cell_type": "markdown",
   "metadata": {
    "id": "2AWZ88i3k15E"
   },
   "source": [
    "## Import Functions"
   ]
  },
  {
   "cell_type": "code",
   "execution_count": 34,
   "metadata": {
    "colab": {
     "base_uri": "https://localhost:8080/"
    },
    "id": "LSI2WEOsYHn2",
    "outputId": "6a589ebb-fcda-4762-a8bf-8b1cf126d65a"
   },
   "outputs": [
    {
     "name": "stdout",
     "output_type": "stream",
     "text": [
      "--2022-04-28 07:50:19--  https://raw.githubusercontent.com/A-ngelG/CE888/main/project/Other_functions.py\n",
      "Resolving raw.githubusercontent.com (raw.githubusercontent.com)... 185.199.109.133, 185.199.108.133, 185.199.111.133, ...\n",
      "Connecting to raw.githubusercontent.com (raw.githubusercontent.com)|185.199.109.133|:443... connected.\n",
      "HTTP request sent, awaiting response... 200 OK\n",
      "Length: 437 [text/plain]\n",
      "Saving to: ‘functions.py’\n",
      "\n",
      "\r",
      "functions.py          0%[                    ]       0  --.-KB/s               \r",
      "functions.py        100%[===================>]     437  --.-KB/s    in 0s      \n",
      "\n",
      "2022-04-28 07:50:19 (19.5 MB/s) - ‘functions.py’ saved [437/437]\n",
      "\n",
      "--2022-04-28 07:50:19--  https://raw.githubusercontent.com/A-ngelG/CE888/main/project/metrics.py\n",
      "Resolving raw.githubusercontent.com (raw.githubusercontent.com)... 185.199.108.133, 185.199.109.133, 185.199.110.133, ...\n",
      "Connecting to raw.githubusercontent.com (raw.githubusercontent.com)|185.199.108.133|:443... connected.\n",
      "HTTP request sent, awaiting response... 200 OK\n",
      "Length: 2309 (2.3K) [text/plain]\n",
      "Saving to: ‘metrics.py’\n",
      "\n",
      "metrics.py          100%[===================>]   2.25K  --.-KB/s    in 0s      \n",
      "\n",
      "2022-04-28 07:50:19 (29.0 MB/s) - ‘metrics.py’ saved [2309/2309]\n",
      "\n"
     ]
    }
   ],
   "source": [
    "dir = '/content/gdrive/My Drive/plots'\n",
    "!wget https://raw.githubusercontent.com/A-ngelG/CE888/main/project/Other_functions.py -O 'functions.py'\n",
    "!wget https://raw.githubusercontent.com/A-ngelG/CE888/main/project/metrics.py -O 'metrics.py'"
   ]
  },
  {
   "cell_type": "code",
   "execution_count": 35,
   "metadata": {
    "id": "lqJyplS_qpBH"
   },
   "outputs": [],
   "source": [
    "import functions as f\n",
    "import metrics as m"
   ]
  },
  {
   "cell_type": "markdown",
   "metadata": {
    "id": "eOz2lTXoIEoy"
   },
   "source": [
    "## IHDP\n"
   ]
  },
  {
   "cell_type": "markdown",
   "metadata": {
    "id": "1qtbCgjYIh7g"
   },
   "source": [
    "#### General information\n",
    "yf stands for factual\n",
    "\n",
    "yfc for counterfactual\n",
    "\n",
    "t for treatment\n",
    "\n",
    "x for background variables\n"
   ]
  },
  {
   "cell_type": "markdown",
   "metadata": {
    "id": "_gd_rO-3EaNT"
   },
   "source": [
    "### Data"
   ]
  },
  {
   "cell_type": "markdown",
   "metadata": {
    "id": "Wacia8hvFREl"
   },
   "source": [
    "#### Load the data"
   ]
  },
  {
   "cell_type": "code",
   "execution_count": 36,
   "metadata": {
    "id": "Eqkwj4SMY38t"
   },
   "outputs": [],
   "source": [
    "ihdp = pd.read_csv('https://raw.githubusercontent.com/A-ngelG/CE888/main/project/data/ihdp.csv')"
   ]
  },
  {
   "cell_type": "markdown",
   "metadata": {
    "id": "P2rhCgGbFXtb"
   },
   "source": [
    "##### Visualize data tables\n",
    "This helps to give insight on the variables in each column and whether they are continuos or binary."
   ]
  },
  {
   "cell_type": "code",
   "execution_count": 37,
   "metadata": {
    "colab": {
     "base_uri": "https://localhost:8080/",
     "height": 505
    },
    "id": "mRiwRb_NFL5I",
    "outputId": "b76591ba-6389-4510-e2e3-fb428484ba2c"
   },
   "outputs": [
    {
     "name": "stdout",
     "output_type": "stream",
     "text": [
      "ihdp\n"
     ]
    },
    {
     "data": {
      "text/html": [
       "\n",
       "  <div id=\"df-b0f0f376-1986-4e08-a5bb-5d95894ef2ce\">\n",
       "    <div class=\"colab-df-container\">\n",
       "      <div>\n",
       "<style scoped>\n",
       "    .dataframe tbody tr th:only-of-type {\n",
       "        vertical-align: middle;\n",
       "    }\n",
       "\n",
       "    .dataframe tbody tr th {\n",
       "        vertical-align: top;\n",
       "    }\n",
       "\n",
       "    .dataframe thead th {\n",
       "        text-align: right;\n",
       "    }\n",
       "</style>\n",
       "<table border=\"1\" class=\"dataframe\">\n",
       "  <thead>\n",
       "    <tr style=\"text-align: right;\">\n",
       "      <th></th>\n",
       "      <th>x1</th>\n",
       "      <th>x2</th>\n",
       "      <th>x3</th>\n",
       "      <th>x4</th>\n",
       "      <th>x5</th>\n",
       "      <th>x6</th>\n",
       "      <th>x7</th>\n",
       "      <th>x8</th>\n",
       "      <th>x9</th>\n",
       "      <th>x10</th>\n",
       "      <th>...</th>\n",
       "      <th>x20</th>\n",
       "      <th>x21</th>\n",
       "      <th>x22</th>\n",
       "      <th>x23</th>\n",
       "      <th>x24</th>\n",
       "      <th>x25</th>\n",
       "      <th>t</th>\n",
       "      <th>yf</th>\n",
       "      <th>ycf</th>\n",
       "      <th>ite</th>\n",
       "    </tr>\n",
       "  </thead>\n",
       "  <tbody>\n",
       "    <tr>\n",
       "      <th>0</th>\n",
       "      <td>1.397395</td>\n",
       "      <td>0.996346</td>\n",
       "      <td>-1.105624</td>\n",
       "      <td>-0.879606</td>\n",
       "      <td>0.308569</td>\n",
       "      <td>-1.023402</td>\n",
       "      <td>1.0</td>\n",
       "      <td>0.0</td>\n",
       "      <td>0.0</td>\n",
       "      <td>0.0</td>\n",
       "      <td>...</td>\n",
       "      <td>0.0</td>\n",
       "      <td>0.0</td>\n",
       "      <td>0.0</td>\n",
       "      <td>0.0</td>\n",
       "      <td>0.0</td>\n",
       "      <td>1.0</td>\n",
       "      <td>1.0</td>\n",
       "      <td>4.771232</td>\n",
       "      <td>-0.298509</td>\n",
       "      <td>4.657928</td>\n",
       "    </tr>\n",
       "    <tr>\n",
       "      <th>1</th>\n",
       "      <td>0.269033</td>\n",
       "      <td>0.196818</td>\n",
       "      <td>0.383828</td>\n",
       "      <td>0.161703</td>\n",
       "      <td>-0.629189</td>\n",
       "      <td>1.460832</td>\n",
       "      <td>1.0</td>\n",
       "      <td>0.0</td>\n",
       "      <td>1.0</td>\n",
       "      <td>0.0</td>\n",
       "      <td>...</td>\n",
       "      <td>0.0</td>\n",
       "      <td>0.0</td>\n",
       "      <td>0.0</td>\n",
       "      <td>0.0</td>\n",
       "      <td>0.0</td>\n",
       "      <td>0.0</td>\n",
       "      <td>0.0</td>\n",
       "      <td>2.956273</td>\n",
       "      <td>5.783770</td>\n",
       "      <td>3.428604</td>\n",
       "    </tr>\n",
       "    <tr>\n",
       "      <th>2</th>\n",
       "      <td>1.051537</td>\n",
       "      <td>1.795874</td>\n",
       "      <td>-1.105624</td>\n",
       "      <td>0.161703</td>\n",
       "      <td>-0.629189</td>\n",
       "      <td>0.963985</td>\n",
       "      <td>1.0</td>\n",
       "      <td>0.0</td>\n",
       "      <td>1.0</td>\n",
       "      <td>1.0</td>\n",
       "      <td>...</td>\n",
       "      <td>0.0</td>\n",
       "      <td>0.0</td>\n",
       "      <td>0.0</td>\n",
       "      <td>0.0</td>\n",
       "      <td>0.0</td>\n",
       "      <td>1.0</td>\n",
       "      <td>0.0</td>\n",
       "      <td>4.164164</td>\n",
       "      <td>7.055789</td>\n",
       "      <td>3.658195</td>\n",
       "    </tr>\n",
       "    <tr>\n",
       "      <th>3</th>\n",
       "      <td>0.662446</td>\n",
       "      <td>0.196818</td>\n",
       "      <td>-0.733261</td>\n",
       "      <td>-0.879606</td>\n",
       "      <td>0.371086</td>\n",
       "      <td>-0.692171</td>\n",
       "      <td>1.0</td>\n",
       "      <td>0.0</td>\n",
       "      <td>0.0</td>\n",
       "      <td>0.0</td>\n",
       "      <td>...</td>\n",
       "      <td>1.0</td>\n",
       "      <td>0.0</td>\n",
       "      <td>0.0</td>\n",
       "      <td>0.0</td>\n",
       "      <td>0.0</td>\n",
       "      <td>0.0</td>\n",
       "      <td>1.0</td>\n",
       "      <td>6.172307</td>\n",
       "      <td>1.379697</td>\n",
       "      <td>4.585505</td>\n",
       "    </tr>\n",
       "    <tr>\n",
       "      <th>4</th>\n",
       "      <td>0.856992</td>\n",
       "      <td>1.795874</td>\n",
       "      <td>0.011465</td>\n",
       "      <td>-0.879606</td>\n",
       "      <td>0.558638</td>\n",
       "      <td>0.301522</td>\n",
       "      <td>0.0</td>\n",
       "      <td>1.0</td>\n",
       "      <td>1.0</td>\n",
       "      <td>0.0</td>\n",
       "      <td>...</td>\n",
       "      <td>0.0</td>\n",
       "      <td>0.0</td>\n",
       "      <td>0.0</td>\n",
       "      <td>0.0</td>\n",
       "      <td>0.0</td>\n",
       "      <td>0.0</td>\n",
       "      <td>1.0</td>\n",
       "      <td>7.834469</td>\n",
       "      <td>2.747986</td>\n",
       "      <td>4.265591</td>\n",
       "    </tr>\n",
       "    <tr>\n",
       "      <th>...</th>\n",
       "      <td>...</td>\n",
       "      <td>...</td>\n",
       "      <td>...</td>\n",
       "      <td>...</td>\n",
       "      <td>...</td>\n",
       "      <td>...</td>\n",
       "      <td>...</td>\n",
       "      <td>...</td>\n",
       "      <td>...</td>\n",
       "      <td>...</td>\n",
       "      <td>...</td>\n",
       "      <td>...</td>\n",
       "      <td>...</td>\n",
       "      <td>...</td>\n",
       "      <td>...</td>\n",
       "      <td>...</td>\n",
       "      <td>...</td>\n",
       "      <td>...</td>\n",
       "      <td>...</td>\n",
       "      <td>...</td>\n",
       "      <td>...</td>\n",
       "    </tr>\n",
       "    <tr>\n",
       "      <th>742</th>\n",
       "      <td>-1.853672</td>\n",
       "      <td>-2.201766</td>\n",
       "      <td>1.500917</td>\n",
       "      <td>0.161703</td>\n",
       "      <td>-0.129052</td>\n",
       "      <td>-1.023402</td>\n",
       "      <td>1.0</td>\n",
       "      <td>0.0</td>\n",
       "      <td>0.0</td>\n",
       "      <td>1.0</td>\n",
       "      <td>...</td>\n",
       "      <td>0.0</td>\n",
       "      <td>0.0</td>\n",
       "      <td>0.0</td>\n",
       "      <td>1.0</td>\n",
       "      <td>0.0</td>\n",
       "      <td>0.0</td>\n",
       "      <td>0.0</td>\n",
       "      <td>2.244050</td>\n",
       "      <td>5.269701</td>\n",
       "      <td>4.598246</td>\n",
       "    </tr>\n",
       "    <tr>\n",
       "      <th>743</th>\n",
       "      <td>-1.066845</td>\n",
       "      <td>-1.402238</td>\n",
       "      <td>1.128554</td>\n",
       "      <td>2.244320</td>\n",
       "      <td>0.371086</td>\n",
       "      <td>2.288910</td>\n",
       "      <td>0.0</td>\n",
       "      <td>0.0</td>\n",
       "      <td>1.0</td>\n",
       "      <td>0.0</td>\n",
       "      <td>...</td>\n",
       "      <td>1.0</td>\n",
       "      <td>0.0</td>\n",
       "      <td>0.0</td>\n",
       "      <td>0.0</td>\n",
       "      <td>0.0</td>\n",
       "      <td>0.0</td>\n",
       "      <td>0.0</td>\n",
       "      <td>6.253175</td>\n",
       "      <td>8.393338</td>\n",
       "      <td>0.940855</td>\n",
       "    </tr>\n",
       "    <tr>\n",
       "      <th>744</th>\n",
       "      <td>-1.045229</td>\n",
       "      <td>-1.337276</td>\n",
       "      <td>1.128554</td>\n",
       "      <td>-0.879606</td>\n",
       "      <td>0.683672</td>\n",
       "      <td>0.301522</td>\n",
       "      <td>1.0</td>\n",
       "      <td>0.0</td>\n",
       "      <td>1.0</td>\n",
       "      <td>0.0</td>\n",
       "      <td>...</td>\n",
       "      <td>0.0</td>\n",
       "      <td>0.0</td>\n",
       "      <td>0.0</td>\n",
       "      <td>0.0</td>\n",
       "      <td>0.0</td>\n",
       "      <td>0.0</td>\n",
       "      <td>0.0</td>\n",
       "      <td>2.908235</td>\n",
       "      <td>6.897207</td>\n",
       "      <td>4.373736</td>\n",
       "    </tr>\n",
       "    <tr>\n",
       "      <th>745</th>\n",
       "      <td>-0.115735</td>\n",
       "      <td>-0.602710</td>\n",
       "      <td>-1.105624</td>\n",
       "      <td>2.244320</td>\n",
       "      <td>0.558638</td>\n",
       "      <td>2.785756</td>\n",
       "      <td>1.0</td>\n",
       "      <td>0.0</td>\n",
       "      <td>1.0</td>\n",
       "      <td>0.0</td>\n",
       "      <td>...</td>\n",
       "      <td>0.0</td>\n",
       "      <td>0.0</td>\n",
       "      <td>0.0</td>\n",
       "      <td>1.0</td>\n",
       "      <td>0.0</td>\n",
       "      <td>0.0</td>\n",
       "      <td>0.0</td>\n",
       "      <td>8.324520</td>\n",
       "      <td>9.208251</td>\n",
       "      <td>0.352653</td>\n",
       "    </tr>\n",
       "    <tr>\n",
       "      <th>746</th>\n",
       "      <td>1.419011</td>\n",
       "      <td>1.396110</td>\n",
       "      <td>-0.733261</td>\n",
       "      <td>2.244320</td>\n",
       "      <td>-0.441638</td>\n",
       "      <td>-0.195324</td>\n",
       "      <td>0.0</td>\n",
       "      <td>1.0</td>\n",
       "      <td>1.0</td>\n",
       "      <td>0.0</td>\n",
       "      <td>...</td>\n",
       "      <td>0.0</td>\n",
       "      <td>0.0</td>\n",
       "      <td>0.0</td>\n",
       "      <td>0.0</td>\n",
       "      <td>0.0</td>\n",
       "      <td>1.0</td>\n",
       "      <td>0.0</td>\n",
       "      <td>1.915644</td>\n",
       "      <td>6.298299</td>\n",
       "      <td>4.115977</td>\n",
       "    </tr>\n",
       "  </tbody>\n",
       "</table>\n",
       "<p>747 rows × 29 columns</p>\n",
       "</div>\n",
       "      <button class=\"colab-df-convert\" onclick=\"convertToInteractive('df-b0f0f376-1986-4e08-a5bb-5d95894ef2ce')\"\n",
       "              title=\"Convert this dataframe to an interactive table.\"\n",
       "              style=\"display:none;\">\n",
       "        \n",
       "  <svg xmlns=\"http://www.w3.org/2000/svg\" height=\"24px\"viewBox=\"0 0 24 24\"\n",
       "       width=\"24px\">\n",
       "    <path d=\"M0 0h24v24H0V0z\" fill=\"none\"/>\n",
       "    <path d=\"M18.56 5.44l.94 2.06.94-2.06 2.06-.94-2.06-.94-.94-2.06-.94 2.06-2.06.94zm-11 1L8.5 8.5l.94-2.06 2.06-.94-2.06-.94L8.5 2.5l-.94 2.06-2.06.94zm10 10l.94 2.06.94-2.06 2.06-.94-2.06-.94-.94-2.06-.94 2.06-2.06.94z\"/><path d=\"M17.41 7.96l-1.37-1.37c-.4-.4-.92-.59-1.43-.59-.52 0-1.04.2-1.43.59L10.3 9.45l-7.72 7.72c-.78.78-.78 2.05 0 2.83L4 21.41c.39.39.9.59 1.41.59.51 0 1.02-.2 1.41-.59l7.78-7.78 2.81-2.81c.8-.78.8-2.07 0-2.86zM5.41 20L4 18.59l7.72-7.72 1.47 1.35L5.41 20z\"/>\n",
       "  </svg>\n",
       "      </button>\n",
       "      \n",
       "  <style>\n",
       "    .colab-df-container {\n",
       "      display:flex;\n",
       "      flex-wrap:wrap;\n",
       "      gap: 12px;\n",
       "    }\n",
       "\n",
       "    .colab-df-convert {\n",
       "      background-color: #E8F0FE;\n",
       "      border: none;\n",
       "      border-radius: 50%;\n",
       "      cursor: pointer;\n",
       "      display: none;\n",
       "      fill: #1967D2;\n",
       "      height: 32px;\n",
       "      padding: 0 0 0 0;\n",
       "      width: 32px;\n",
       "    }\n",
       "\n",
       "    .colab-df-convert:hover {\n",
       "      background-color: #E2EBFA;\n",
       "      box-shadow: 0px 1px 2px rgba(60, 64, 67, 0.3), 0px 1px 3px 1px rgba(60, 64, 67, 0.15);\n",
       "      fill: #174EA6;\n",
       "    }\n",
       "\n",
       "    [theme=dark] .colab-df-convert {\n",
       "      background-color: #3B4455;\n",
       "      fill: #D2E3FC;\n",
       "    }\n",
       "\n",
       "    [theme=dark] .colab-df-convert:hover {\n",
       "      background-color: #434B5C;\n",
       "      box-shadow: 0px 1px 3px 1px rgba(0, 0, 0, 0.15);\n",
       "      filter: drop-shadow(0px 1px 2px rgba(0, 0, 0, 0.3));\n",
       "      fill: #FFFFFF;\n",
       "    }\n",
       "  </style>\n",
       "\n",
       "      <script>\n",
       "        const buttonEl =\n",
       "          document.querySelector('#df-b0f0f376-1986-4e08-a5bb-5d95894ef2ce button.colab-df-convert');\n",
       "        buttonEl.style.display =\n",
       "          google.colab.kernel.accessAllowed ? 'block' : 'none';\n",
       "\n",
       "        async function convertToInteractive(key) {\n",
       "          const element = document.querySelector('#df-b0f0f376-1986-4e08-a5bb-5d95894ef2ce');\n",
       "          const dataTable =\n",
       "            await google.colab.kernel.invokeFunction('convertToInteractive',\n",
       "                                                     [key], {});\n",
       "          if (!dataTable) return;\n",
       "\n",
       "          const docLinkHtml = 'Like what you see? Visit the ' +\n",
       "            '<a target=\"_blank\" href=https://colab.research.google.com/notebooks/data_table.ipynb>data table notebook</a>'\n",
       "            + ' to learn more about interactive tables.';\n",
       "          element.innerHTML = '';\n",
       "          dataTable['output_type'] = 'display_data';\n",
       "          await google.colab.output.renderOutput(dataTable, element);\n",
       "          const docLink = document.createElement('div');\n",
       "          docLink.innerHTML = docLinkHtml;\n",
       "          element.appendChild(docLink);\n",
       "        }\n",
       "      </script>\n",
       "    </div>\n",
       "  </div>\n",
       "  "
      ],
      "text/plain": [
       "           x1        x2        x3        x4        x5        x6   x7   x8  \\\n",
       "0    1.397395  0.996346 -1.105624 -0.879606  0.308569 -1.023402  1.0  0.0   \n",
       "1    0.269033  0.196818  0.383828  0.161703 -0.629189  1.460832  1.0  0.0   \n",
       "2    1.051537  1.795874 -1.105624  0.161703 -0.629189  0.963985  1.0  0.0   \n",
       "3    0.662446  0.196818 -0.733261 -0.879606  0.371086 -0.692171  1.0  0.0   \n",
       "4    0.856992  1.795874  0.011465 -0.879606  0.558638  0.301522  0.0  1.0   \n",
       "..        ...       ...       ...       ...       ...       ...  ...  ...   \n",
       "742 -1.853672 -2.201766  1.500917  0.161703 -0.129052 -1.023402  1.0  0.0   \n",
       "743 -1.066845 -1.402238  1.128554  2.244320  0.371086  2.288910  0.0  0.0   \n",
       "744 -1.045229 -1.337276  1.128554 -0.879606  0.683672  0.301522  1.0  0.0   \n",
       "745 -0.115735 -0.602710 -1.105624  2.244320  0.558638  2.785756  1.0  0.0   \n",
       "746  1.419011  1.396110 -0.733261  2.244320 -0.441638 -0.195324  0.0  1.0   \n",
       "\n",
       "      x9  x10  ...  x20  x21  x22  x23  x24  x25    t        yf       ycf  \\\n",
       "0    0.0  0.0  ...  0.0  0.0  0.0  0.0  0.0  1.0  1.0  4.771232 -0.298509   \n",
       "1    1.0  0.0  ...  0.0  0.0  0.0  0.0  0.0  0.0  0.0  2.956273  5.783770   \n",
       "2    1.0  1.0  ...  0.0  0.0  0.0  0.0  0.0  1.0  0.0  4.164164  7.055789   \n",
       "3    0.0  0.0  ...  1.0  0.0  0.0  0.0  0.0  0.0  1.0  6.172307  1.379697   \n",
       "4    1.0  0.0  ...  0.0  0.0  0.0  0.0  0.0  0.0  1.0  7.834469  2.747986   \n",
       "..   ...  ...  ...  ...  ...  ...  ...  ...  ...  ...       ...       ...   \n",
       "742  0.0  1.0  ...  0.0  0.0  0.0  1.0  0.0  0.0  0.0  2.244050  5.269701   \n",
       "743  1.0  0.0  ...  1.0  0.0  0.0  0.0  0.0  0.0  0.0  6.253175  8.393338   \n",
       "744  1.0  0.0  ...  0.0  0.0  0.0  0.0  0.0  0.0  0.0  2.908235  6.897207   \n",
       "745  1.0  0.0  ...  0.0  0.0  0.0  1.0  0.0  0.0  0.0  8.324520  9.208251   \n",
       "746  1.0  0.0  ...  0.0  0.0  0.0  0.0  0.0  1.0  0.0  1.915644  6.298299   \n",
       "\n",
       "          ite  \n",
       "0    4.657928  \n",
       "1    3.428604  \n",
       "2    3.658195  \n",
       "3    4.585505  \n",
       "4    4.265591  \n",
       "..        ...  \n",
       "742  4.598246  \n",
       "743  0.940855  \n",
       "744  4.373736  \n",
       "745  0.352653  \n",
       "746  4.115977  \n",
       "\n",
       "[747 rows x 29 columns]"
      ]
     },
     "execution_count": 37,
     "metadata": {},
     "output_type": "execute_result"
    }
   ],
   "source": [
    "print('ihdp')\n",
    "ihdp"
   ]
  },
  {
   "cell_type": "code",
   "execution_count": 38,
   "metadata": {
    "colab": {
     "base_uri": "https://localhost:8080/"
    },
    "id": "TTx-7B4wIA3K",
    "outputId": "f17f4bf0-f847-47d3-c434-eab7a2a77094"
   },
   "outputs": [
    {
     "name": "stdout",
     "output_type": "stream",
     "text": [
      "<class 'pandas.core.frame.DataFrame'>\n",
      "RangeIndex: 747 entries, 0 to 746\n",
      "Data columns (total 29 columns):\n",
      " #   Column  Non-Null Count  Dtype  \n",
      "---  ------  --------------  -----  \n",
      " 0   x1      747 non-null    float64\n",
      " 1   x2      747 non-null    float64\n",
      " 2   x3      747 non-null    float64\n",
      " 3   x4      747 non-null    float64\n",
      " 4   x5      747 non-null    float64\n",
      " 5   x6      747 non-null    float64\n",
      " 6   x7      747 non-null    float64\n",
      " 7   x8      747 non-null    float64\n",
      " 8   x9      747 non-null    float64\n",
      " 9   x10     747 non-null    float64\n",
      " 10  x11     747 non-null    float64\n",
      " 11  x12     747 non-null    float64\n",
      " 12  x13     747 non-null    float64\n",
      " 13  x14     747 non-null    float64\n",
      " 14  x15     747 non-null    float64\n",
      " 15  x16     747 non-null    float64\n",
      " 16  x17     747 non-null    float64\n",
      " 17  x18     747 non-null    float64\n",
      " 18  x19     747 non-null    float64\n",
      " 19  x20     747 non-null    float64\n",
      " 20  x21     747 non-null    float64\n",
      " 21  x22     747 non-null    float64\n",
      " 22  x23     747 non-null    float64\n",
      " 23  x24     747 non-null    float64\n",
      " 24  x25     747 non-null    float64\n",
      " 25  t       747 non-null    float64\n",
      " 26  yf      747 non-null    float64\n",
      " 27  ycf     747 non-null    float64\n",
      " 28  ite     747 non-null    float64\n",
      "dtypes: float64(29)\n",
      "memory usage: 169.4 KB\n",
      "None\n",
      "(747, 29)\n"
     ]
    }
   ],
   "source": [
    "print(ihdp.info()) #printed to check if there is by chance some missing data\n",
    "print(ihdp.shape) #used to check the size of the dataframe"
   ]
  },
  {
   "cell_type": "code",
   "execution_count": 39,
   "metadata": {
    "colab": {
     "base_uri": "https://localhost:8080/",
     "height": 446
    },
    "id": "lIjl4Z04IWNL",
    "outputId": "cc4f6704-150e-42f8-90bc-73f960b95691"
   },
   "outputs": [
    {
     "data": {
      "text/html": [
       "\n",
       "  <div id=\"df-fba984de-e86f-4499-b039-93c9aac5c0f1\">\n",
       "    <div class=\"colab-df-container\">\n",
       "      <div>\n",
       "<style scoped>\n",
       "    .dataframe tbody tr th:only-of-type {\n",
       "        vertical-align: middle;\n",
       "    }\n",
       "\n",
       "    .dataframe tbody tr th {\n",
       "        vertical-align: top;\n",
       "    }\n",
       "\n",
       "    .dataframe thead th {\n",
       "        text-align: right;\n",
       "    }\n",
       "</style>\n",
       "<table border=\"1\" class=\"dataframe\">\n",
       "  <thead>\n",
       "    <tr style=\"text-align: right;\">\n",
       "      <th></th>\n",
       "      <th>x1</th>\n",
       "      <th>x2</th>\n",
       "      <th>x3</th>\n",
       "      <th>x4</th>\n",
       "      <th>x5</th>\n",
       "      <th>x6</th>\n",
       "      <th>x7</th>\n",
       "      <th>x8</th>\n",
       "      <th>x9</th>\n",
       "      <th>x10</th>\n",
       "      <th>...</th>\n",
       "      <th>x20</th>\n",
       "      <th>x21</th>\n",
       "      <th>x22</th>\n",
       "      <th>x23</th>\n",
       "      <th>x24</th>\n",
       "      <th>x25</th>\n",
       "      <th>t</th>\n",
       "      <th>yf</th>\n",
       "      <th>ycf</th>\n",
       "      <th>ite</th>\n",
       "    </tr>\n",
       "  </thead>\n",
       "  <tbody>\n",
       "    <tr>\n",
       "      <th>count</th>\n",
       "      <td>7.470000e+02</td>\n",
       "      <td>7.470000e+02</td>\n",
       "      <td>7.470000e+02</td>\n",
       "      <td>7.470000e+02</td>\n",
       "      <td>7.470000e+02</td>\n",
       "      <td>7.470000e+02</td>\n",
       "      <td>747.000000</td>\n",
       "      <td>747.000000</td>\n",
       "      <td>747.000000</td>\n",
       "      <td>747.000000</td>\n",
       "      <td>...</td>\n",
       "      <td>747.000000</td>\n",
       "      <td>747.000000</td>\n",
       "      <td>747.000000</td>\n",
       "      <td>747.000000</td>\n",
       "      <td>747.000000</td>\n",
       "      <td>747.000000</td>\n",
       "      <td>747.000000</td>\n",
       "      <td>747.000000</td>\n",
       "      <td>747.000000</td>\n",
       "      <td>747.000000</td>\n",
       "    </tr>\n",
       "    <tr>\n",
       "      <th>mean</th>\n",
       "      <td>3.626431e-17</td>\n",
       "      <td>2.348263e-17</td>\n",
       "      <td>-4.666801e-17</td>\n",
       "      <td>-9.012574e-16</td>\n",
       "      <td>4.518177e-17</td>\n",
       "      <td>-7.251376e-16</td>\n",
       "      <td>0.514056</td>\n",
       "      <td>0.093708</td>\n",
       "      <td>0.520750</td>\n",
       "      <td>0.364123</td>\n",
       "      <td>...</td>\n",
       "      <td>0.135207</td>\n",
       "      <td>0.156627</td>\n",
       "      <td>0.081660</td>\n",
       "      <td>0.073628</td>\n",
       "      <td>0.128514</td>\n",
       "      <td>0.157965</td>\n",
       "      <td>0.186078</td>\n",
       "      <td>3.159538</td>\n",
       "      <td>5.696107</td>\n",
       "      <td>4.016067</td>\n",
       "    </tr>\n",
       "    <tr>\n",
       "      <th>std</th>\n",
       "      <td>1.000000e+00</td>\n",
       "      <td>1.000000e+00</td>\n",
       "      <td>1.000000e+00</td>\n",
       "      <td>1.000000e+00</td>\n",
       "      <td>1.000000e+00</td>\n",
       "      <td>1.000000e+00</td>\n",
       "      <td>0.500137</td>\n",
       "      <td>0.291618</td>\n",
       "      <td>0.499904</td>\n",
       "      <td>0.481506</td>\n",
       "      <td>...</td>\n",
       "      <td>0.342174</td>\n",
       "      <td>0.363692</td>\n",
       "      <td>0.274029</td>\n",
       "      <td>0.261339</td>\n",
       "      <td>0.334886</td>\n",
       "      <td>0.364953</td>\n",
       "      <td>0.389430</td>\n",
       "      <td>2.179956</td>\n",
       "      <td>1.980121</td>\n",
       "      <td>0.859736</td>\n",
       "    </tr>\n",
       "    <tr>\n",
       "      <th>min</th>\n",
       "      <td>-2.731287e+00</td>\n",
       "      <td>-3.800823e+00</td>\n",
       "      <td>-1.850350e+00</td>\n",
       "      <td>-8.796060e-01</td>\n",
       "      <td>-5.130428e+00</td>\n",
       "      <td>-1.851480e+00</td>\n",
       "      <td>0.000000</td>\n",
       "      <td>0.000000</td>\n",
       "      <td>0.000000</td>\n",
       "      <td>0.000000</td>\n",
       "      <td>...</td>\n",
       "      <td>0.000000</td>\n",
       "      <td>0.000000</td>\n",
       "      <td>0.000000</td>\n",
       "      <td>0.000000</td>\n",
       "      <td>0.000000</td>\n",
       "      <td>0.000000</td>\n",
       "      <td>0.000000</td>\n",
       "      <td>-1.543902</td>\n",
       "      <td>-1.037628</td>\n",
       "      <td>-1.866989</td>\n",
       "    </tr>\n",
       "    <tr>\n",
       "      <th>25%</th>\n",
       "      <td>-6.669461e-01</td>\n",
       "      <td>-6.027100e-01</td>\n",
       "      <td>-7.332610e-01</td>\n",
       "      <td>-8.796060e-01</td>\n",
       "      <td>-5.666720e-01</td>\n",
       "      <td>-8.577868e-01</td>\n",
       "      <td>0.000000</td>\n",
       "      <td>0.000000</td>\n",
       "      <td>0.000000</td>\n",
       "      <td>0.000000</td>\n",
       "      <td>...</td>\n",
       "      <td>0.000000</td>\n",
       "      <td>0.000000</td>\n",
       "      <td>0.000000</td>\n",
       "      <td>0.000000</td>\n",
       "      <td>0.000000</td>\n",
       "      <td>0.000000</td>\n",
       "      <td>0.000000</td>\n",
       "      <td>1.626779</td>\n",
       "      <td>5.053598</td>\n",
       "      <td>3.775936</td>\n",
       "    </tr>\n",
       "    <tr>\n",
       "      <th>50%</th>\n",
       "      <td>1.652752e-01</td>\n",
       "      <td>1.968181e-01</td>\n",
       "      <td>-3.608980e-01</td>\n",
       "      <td>1.617025e-01</td>\n",
       "      <td>1.210172e-01</td>\n",
       "      <td>-2.970882e-02</td>\n",
       "      <td>1.000000</td>\n",
       "      <td>0.000000</td>\n",
       "      <td>1.000000</td>\n",
       "      <td>0.000000</td>\n",
       "      <td>...</td>\n",
       "      <td>0.000000</td>\n",
       "      <td>0.000000</td>\n",
       "      <td>0.000000</td>\n",
       "      <td>0.000000</td>\n",
       "      <td>0.000000</td>\n",
       "      <td>0.000000</td>\n",
       "      <td>0.000000</td>\n",
       "      <td>2.577294</td>\n",
       "      <td>6.209686</td>\n",
       "      <td>4.304433</td>\n",
       "    </tr>\n",
       "    <tr>\n",
       "      <th>75%</th>\n",
       "      <td>8.137593e-01</td>\n",
       "      <td>5.965822e-01</td>\n",
       "      <td>7.561910e-01</td>\n",
       "      <td>1.617025e-01</td>\n",
       "      <td>6.836721e-01</td>\n",
       "      <td>6.327536e-01</td>\n",
       "      <td>1.000000</td>\n",
       "      <td>0.000000</td>\n",
       "      <td>1.000000</td>\n",
       "      <td>1.000000</td>\n",
       "      <td>...</td>\n",
       "      <td>0.000000</td>\n",
       "      <td>0.000000</td>\n",
       "      <td>0.000000</td>\n",
       "      <td>0.000000</td>\n",
       "      <td>0.000000</td>\n",
       "      <td>0.000000</td>\n",
       "      <td>0.000000</td>\n",
       "      <td>4.494637</td>\n",
       "      <td>6.948922</td>\n",
       "      <td>4.569454</td>\n",
       "    </tr>\n",
       "    <tr>\n",
       "      <th>max</th>\n",
       "      <td>1.505476e+00</td>\n",
       "      <td>2.595403e+00</td>\n",
       "      <td>2.990369e+00</td>\n",
       "      <td>2.244320e+00</td>\n",
       "      <td>2.371637e+00</td>\n",
       "      <td>2.951372e+00</td>\n",
       "      <td>1.000000</td>\n",
       "      <td>1.000000</td>\n",
       "      <td>1.000000</td>\n",
       "      <td>1.000000</td>\n",
       "      <td>...</td>\n",
       "      <td>1.000000</td>\n",
       "      <td>1.000000</td>\n",
       "      <td>1.000000</td>\n",
       "      <td>1.000000</td>\n",
       "      <td>1.000000</td>\n",
       "      <td>1.000000</td>\n",
       "      <td>1.000000</td>\n",
       "      <td>11.268228</td>\n",
       "      <td>10.171004</td>\n",
       "      <td>4.670125</td>\n",
       "    </tr>\n",
       "  </tbody>\n",
       "</table>\n",
       "<p>8 rows × 29 columns</p>\n",
       "</div>\n",
       "      <button class=\"colab-df-convert\" onclick=\"convertToInteractive('df-fba984de-e86f-4499-b039-93c9aac5c0f1')\"\n",
       "              title=\"Convert this dataframe to an interactive table.\"\n",
       "              style=\"display:none;\">\n",
       "        \n",
       "  <svg xmlns=\"http://www.w3.org/2000/svg\" height=\"24px\"viewBox=\"0 0 24 24\"\n",
       "       width=\"24px\">\n",
       "    <path d=\"M0 0h24v24H0V0z\" fill=\"none\"/>\n",
       "    <path d=\"M18.56 5.44l.94 2.06.94-2.06 2.06-.94-2.06-.94-.94-2.06-.94 2.06-2.06.94zm-11 1L8.5 8.5l.94-2.06 2.06-.94-2.06-.94L8.5 2.5l-.94 2.06-2.06.94zm10 10l.94 2.06.94-2.06 2.06-.94-2.06-.94-.94-2.06-.94 2.06-2.06.94z\"/><path d=\"M17.41 7.96l-1.37-1.37c-.4-.4-.92-.59-1.43-.59-.52 0-1.04.2-1.43.59L10.3 9.45l-7.72 7.72c-.78.78-.78 2.05 0 2.83L4 21.41c.39.39.9.59 1.41.59.51 0 1.02-.2 1.41-.59l7.78-7.78 2.81-2.81c.8-.78.8-2.07 0-2.86zM5.41 20L4 18.59l7.72-7.72 1.47 1.35L5.41 20z\"/>\n",
       "  </svg>\n",
       "      </button>\n",
       "      \n",
       "  <style>\n",
       "    .colab-df-container {\n",
       "      display:flex;\n",
       "      flex-wrap:wrap;\n",
       "      gap: 12px;\n",
       "    }\n",
       "\n",
       "    .colab-df-convert {\n",
       "      background-color: #E8F0FE;\n",
       "      border: none;\n",
       "      border-radius: 50%;\n",
       "      cursor: pointer;\n",
       "      display: none;\n",
       "      fill: #1967D2;\n",
       "      height: 32px;\n",
       "      padding: 0 0 0 0;\n",
       "      width: 32px;\n",
       "    }\n",
       "\n",
       "    .colab-df-convert:hover {\n",
       "      background-color: #E2EBFA;\n",
       "      box-shadow: 0px 1px 2px rgba(60, 64, 67, 0.3), 0px 1px 3px 1px rgba(60, 64, 67, 0.15);\n",
       "      fill: #174EA6;\n",
       "    }\n",
       "\n",
       "    [theme=dark] .colab-df-convert {\n",
       "      background-color: #3B4455;\n",
       "      fill: #D2E3FC;\n",
       "    }\n",
       "\n",
       "    [theme=dark] .colab-df-convert:hover {\n",
       "      background-color: #434B5C;\n",
       "      box-shadow: 0px 1px 3px 1px rgba(0, 0, 0, 0.15);\n",
       "      filter: drop-shadow(0px 1px 2px rgba(0, 0, 0, 0.3));\n",
       "      fill: #FFFFFF;\n",
       "    }\n",
       "  </style>\n",
       "\n",
       "      <script>\n",
       "        const buttonEl =\n",
       "          document.querySelector('#df-fba984de-e86f-4499-b039-93c9aac5c0f1 button.colab-df-convert');\n",
       "        buttonEl.style.display =\n",
       "          google.colab.kernel.accessAllowed ? 'block' : 'none';\n",
       "\n",
       "        async function convertToInteractive(key) {\n",
       "          const element = document.querySelector('#df-fba984de-e86f-4499-b039-93c9aac5c0f1');\n",
       "          const dataTable =\n",
       "            await google.colab.kernel.invokeFunction('convertToInteractive',\n",
       "                                                     [key], {});\n",
       "          if (!dataTable) return;\n",
       "\n",
       "          const docLinkHtml = 'Like what you see? Visit the ' +\n",
       "            '<a target=\"_blank\" href=https://colab.research.google.com/notebooks/data_table.ipynb>data table notebook</a>'\n",
       "            + ' to learn more about interactive tables.';\n",
       "          element.innerHTML = '';\n",
       "          dataTable['output_type'] = 'display_data';\n",
       "          await google.colab.output.renderOutput(dataTable, element);\n",
       "          const docLink = document.createElement('div');\n",
       "          docLink.innerHTML = docLinkHtml;\n",
       "          element.appendChild(docLink);\n",
       "        }\n",
       "      </script>\n",
       "    </div>\n",
       "  </div>\n",
       "  "
      ],
      "text/plain": [
       "                 x1            x2            x3            x4            x5  \\\n",
       "count  7.470000e+02  7.470000e+02  7.470000e+02  7.470000e+02  7.470000e+02   \n",
       "mean   3.626431e-17  2.348263e-17 -4.666801e-17 -9.012574e-16  4.518177e-17   \n",
       "std    1.000000e+00  1.000000e+00  1.000000e+00  1.000000e+00  1.000000e+00   \n",
       "min   -2.731287e+00 -3.800823e+00 -1.850350e+00 -8.796060e-01 -5.130428e+00   \n",
       "25%   -6.669461e-01 -6.027100e-01 -7.332610e-01 -8.796060e-01 -5.666720e-01   \n",
       "50%    1.652752e-01  1.968181e-01 -3.608980e-01  1.617025e-01  1.210172e-01   \n",
       "75%    8.137593e-01  5.965822e-01  7.561910e-01  1.617025e-01  6.836721e-01   \n",
       "max    1.505476e+00  2.595403e+00  2.990369e+00  2.244320e+00  2.371637e+00   \n",
       "\n",
       "                 x6          x7          x8          x9         x10  ...  \\\n",
       "count  7.470000e+02  747.000000  747.000000  747.000000  747.000000  ...   \n",
       "mean  -7.251376e-16    0.514056    0.093708    0.520750    0.364123  ...   \n",
       "std    1.000000e+00    0.500137    0.291618    0.499904    0.481506  ...   \n",
       "min   -1.851480e+00    0.000000    0.000000    0.000000    0.000000  ...   \n",
       "25%   -8.577868e-01    0.000000    0.000000    0.000000    0.000000  ...   \n",
       "50%   -2.970882e-02    1.000000    0.000000    1.000000    0.000000  ...   \n",
       "75%    6.327536e-01    1.000000    0.000000    1.000000    1.000000  ...   \n",
       "max    2.951372e+00    1.000000    1.000000    1.000000    1.000000  ...   \n",
       "\n",
       "              x20         x21         x22         x23         x24         x25  \\\n",
       "count  747.000000  747.000000  747.000000  747.000000  747.000000  747.000000   \n",
       "mean     0.135207    0.156627    0.081660    0.073628    0.128514    0.157965   \n",
       "std      0.342174    0.363692    0.274029    0.261339    0.334886    0.364953   \n",
       "min      0.000000    0.000000    0.000000    0.000000    0.000000    0.000000   \n",
       "25%      0.000000    0.000000    0.000000    0.000000    0.000000    0.000000   \n",
       "50%      0.000000    0.000000    0.000000    0.000000    0.000000    0.000000   \n",
       "75%      0.000000    0.000000    0.000000    0.000000    0.000000    0.000000   \n",
       "max      1.000000    1.000000    1.000000    1.000000    1.000000    1.000000   \n",
       "\n",
       "                t          yf         ycf         ite  \n",
       "count  747.000000  747.000000  747.000000  747.000000  \n",
       "mean     0.186078    3.159538    5.696107    4.016067  \n",
       "std      0.389430    2.179956    1.980121    0.859736  \n",
       "min      0.000000   -1.543902   -1.037628   -1.866989  \n",
       "25%      0.000000    1.626779    5.053598    3.775936  \n",
       "50%      0.000000    2.577294    6.209686    4.304433  \n",
       "75%      0.000000    4.494637    6.948922    4.569454  \n",
       "max      1.000000   11.268228   10.171004    4.670125  \n",
       "\n",
       "[8 rows x 29 columns]"
      ]
     },
     "execution_count": 39,
     "metadata": {},
     "output_type": "execute_result"
    }
   ],
   "source": [
    "ihdp.describe() #helps to see ranges of each of the columns, and gives insight on the outcomes and individual treatment effect."
   ]
  },
  {
   "cell_type": "code",
   "execution_count": 40,
   "metadata": {
    "colab": {
     "base_uri": "https://localhost:8080/"
    },
    "id": "2sARMxdwgAFh",
    "outputId": "a0720f9b-ebba-49ab-f7f6-e69823a5f15c"
   },
   "outputs": [
    {
     "name": "stdout",
     "output_type": "stream",
     "text": [
      "0.0    608\n",
      "1.0    139\n",
      "Name: t, dtype: int64\n"
     ]
    }
   ],
   "source": [
    "print(ihdp['t'].value_counts()) #to check how imbalanced the treatment column is"
   ]
  },
  {
   "cell_type": "markdown",
   "metadata": {
    "id": "1ySydlUoHy1f"
   },
   "source": [
    "Following code for creating and exporting graph"
   ]
  },
  {
   "cell_type": "code",
   "execution_count": 41,
   "metadata": {
    "colab": {
     "base_uri": "https://localhost:8080/",
     "height": 295
    },
    "id": "LD0yrlVd7l6b",
    "outputId": "b2eefd2f-e7de-4934-bae8-03ba11a0ef79"
   },
   "outputs": [
    {
     "data": {
      "image/png": "[encoded data removed]",
      "text/plain": [
       "<Figure size 360x288 with 1 Axes>"
      ]
     },
     "metadata": {
      "needs_background": "light"
     },
     "output_type": "display_data"
    }
   ],
   "source": [
    "fig,ax = plt.subplots(figsize=(5,4))\n",
    "ax.hist(ihdp['yf'], bins=20)\n",
    "ax.set_xlabel('Cognitive Test Score')\n",
    "ax.set_ylabel('Score')\n",
    "ax.set_title(\"Factual\")\n",
    "fig1 = plt.gcf()\n",
    "fig1.savefig(f'{dir}histogram.pdf')\n",
    "plt.show()"
   ]
  },
  {
   "cell_type": "code",
   "execution_count": 42,
   "metadata": {
    "colab": {
     "base_uri": "https://localhost:8080/",
     "height": 192
    },
    "id": "2yJSxYAHIpA8",
    "outputId": "40c8ce76-dc99-4373-c331-56076a88efc1"
   },
   "outputs": [
    {
     "data": {
      "image/png": "[encoded data removed]",
      "text/plain": [
       "<Figure size 1152x288 with 3 Axes>"
      ]
     },
     "metadata": {
      "needs_background": "light"
     },
     "output_type": "display_data"
    }
   ],
   "source": [
    "fig,axs = plt.subplots(1, 3, figsize=(16,4)) #basic data visualization, looking for skewed data, ando ther outliners\n",
    "axs[0].hist(ihdp['yf'], bins=20)\n",
    "axs[1].hist(ihdp['ycf'], bins=20)\n",
    "axs[2].hist(ihdp['ite'], bins=20)\n",
    "plt.show()"
   ]
  },
  {
   "cell_type": "code",
   "execution_count": 43,
   "metadata": {
    "colab": {
     "base_uri": "https://localhost:8080/",
     "height": 507
    },
    "id": "QFJb9A0CufOQ",
    "outputId": "8e4322a8-4d24-4861-e546-3f5606356d00"
   },
   "outputs": [
    {
     "data": {
      "image/png": "[encoded data removed]",
      "text/plain": [
       "<Figure size 1440x1080 with 30 Axes>"
      ]
     },
     "metadata": {
      "needs_background": "light"
     },
     "output_type": "display_data"
    }
   ],
   "source": [
    "_ = ihdp.hist(bins=20, figsize=(20,15)) #basic data visualization of the features"
   ]
  },
  {
   "cell_type": "markdown",
   "metadata": {
    "id": "2kL4hCH-2jQC"
   },
   "source": [
    "#### Preprocessing\n",
    "Data split for training and validation, then preprocessed with standardscaler, take in consideration that ycf and ite will only be used for evaluation."
   ]
  },
  {
   "cell_type": "code",
   "execution_count": 44,
   "metadata": {
    "id": "SPbMWtKAuIRe"
   },
   "outputs": [],
   "source": [
    "x = np.array(ihdp)\n",
    "x = x[:,0:25]\n",
    "\n",
    "t = np.array(ihdp['t'])\n",
    "yf = np.array(ihdp['yf'])\n",
    "ycf = np.array(ihdp['ycf'])\n",
    "Tite = np.array(ihdp['ite'])\n",
    "x_train, x_test, t_train, t_test, yf_train, yf_test,ycf_train, ycf_test, ite_train, ite_test = train_test_split(x, t, yf, ycf, Tite, test_size=0.1)\n",
    "\n",
    "scaler_x = StandardScaler()\n",
    "x_train = scaler_x.fit_transform(x_train)\n",
    "x_test = scaler_x.transform(x_test)\n",
    "t_train=t_train[:,np.newaxis]  #reshaping\n",
    "t_test=t_test[:,np.newaxis]\n"
   ]
  },
  {
   "cell_type": "markdown",
   "metadata": {
    "id": "mttKK1u-ZGdZ"
   },
   "source": [
    "### Training\n"
   ]
  },
  {
   "cell_type": "markdown",
   "metadata": {
    "id": "X4nChpXN4Kcc"
   },
   "source": [
    "#### Non optimised"
   ]
  },
  {
   "cell_type": "markdown",
   "metadata": {
    "id": "Ax5Df2Ia3Sgk"
   },
   "source": [
    "##### Support Vector Regressor\n"
   ]
  },
  {
   "cell_type": "code",
   "execution_count": 45,
   "metadata": {
    "id": "nh38Qo5Wd74v"
   },
   "outputs": [],
   "source": [
    "svr = SVR()\n",
    "#Train on training data\n",
    "\n",
    "svr.fit(np.concatenate((x_train,t_train),axis = 1), yf_train.flatten())\n",
    "\n",
    "#Test predictions\n",
    "#Predict y0 given [X,0]\n",
    "svr_y0_test = svr.predict(np.concatenate((x_test,np.zeros((len(x_test),1))),axis=1))\n",
    "#Predict y1 given [X,1]\n",
    "svr_y1_test = svr.predict(np.concatenate((x_test,np.ones_like(t_test)),axis=1))\n",
    "\n",
    "#Calculate ITEs\n",
    "svr_ite_test = svr_y1_test - svr_y0_test "
   ]
  },
  {
   "cell_type": "markdown",
   "metadata": {
    "id": "7BkkiTfP3VRU"
   },
   "source": [
    "##### SVR_IPSW\n"
   ]
  },
  {
   "cell_type": "code",
   "execution_count": 46,
   "metadata": {
    "id": "U38QkeNQ6TuB"
   },
   "outputs": [],
   "source": [
    "#Get Sample weights\n",
    "w_clf = RandomForestClassifier()\n",
    "weights = f.get_ps_weights(w_clf, x_train,t_train)\n",
    "#Train regressor\n",
    "svr_ipsw = SVR()\n",
    "svr_ipsw.fit(np.concatenate((x_train,t_train),axis = 1), yf_train.flatten(), sample_weight=weights)\n",
    "\n",
    "#Test predictions\n",
    "#Predict y0 given [X,0]\n",
    "svr_ipsw_y0_test = svr_ipsw.predict(np.concatenate((x_test,np.zeros_like(t_test)),axis=1))\n",
    "#Predict y1 given [X,1]\n",
    "svr_ipsw_y1_test = svr_ipsw.predict(np.concatenate((x_test,np.ones_like(t_test)),axis=1))\n",
    "\n",
    "#Calculate ITEs\n",
    "svr_ipsw_ite_test = svr_ipsw_y1_test - svr_ipsw_y0_test"
   ]
  },
  {
   "cell_type": "markdown",
   "metadata": {
    "id": "gNGTY71r3fhT"
   },
   "source": [
    "##### T - Learner with RF\n"
   ]
  },
  {
   "cell_type": "code",
   "execution_count": 47,
   "metadata": {
    "colab": {
     "base_uri": "https://localhost:8080/"
    },
    "id": "GLWOmjAi8vkT",
    "outputId": "ebba4bd9-441d-4e22-b678-b5ae99e3e138"
   },
   "outputs": [
    {
     "name": "stderr",
     "output_type": "stream",
     "text": [
      "A column-vector y was passed when a 1d array was expected. Please change the shape of y to (n_samples, ), for example using ravel().\n",
      "Function get_feature_names is deprecated; get_feature_names is deprecated in 1.0 and will be removed in 1.2. Please use get_feature_names_out instead.\n"
     ]
    }
   ],
   "source": [
    "tl = TLearner(models = RandomForestRegressor())\n",
    "tl.fit(yf_train,t_train,X = x_train)\n",
    "#Predict effect\n",
    "tl_ite_test = tl.effect(x_test)"
   ]
  },
  {
   "cell_type": "markdown",
   "metadata": {
    "id": "SaIeb0xzKELS"
   },
   "source": [
    "#### Hyperparameter optimisation\n"
   ]
  },
  {
   "cell_type": "markdown",
   "metadata": {
    "id": "gdSzpwHR3yUL"
   },
   "source": [
    "##### SVR with GridSearchCV"
   ]
  },
  {
   "cell_type": "code",
   "execution_count": 48,
   "metadata": {
    "colab": {
     "base_uri": "https://localhost:8080/"
    },
    "id": "wgxfNncmKILq",
    "outputId": "25efbcb8-58a7-4d63-9867-7a3024700be1"
   },
   "outputs": [
    {
     "data": {
      "text/plain": [
       "{'C': 100, 'gamma': 0.001, 'kernel': 'rbf'}"
      ]
     },
     "execution_count": 48,
     "metadata": {},
     "output_type": "execute_result"
    }
   ],
   "source": [
    "params_svr = {\"kernel\": ['linear', 'rbf'], \"gamma\": [0.1, 0.05, 0.01, 0.001] , 'C': [1,10,100]}\n",
    "svr_gs = GridSearchCV(SVR(), param_grid=params_svr,n_jobs=-1, cv=5)\n",
    "svr_gs.fit(np.concatenate([x_train, t_train], axis=1), yf_train.flatten())\n",
    "\n",
    "#Test predictions\n",
    "#Predict y0 given [X,0]\n",
    "svr_gs_y0_test = svr_gs.predict(np.concatenate((x_test,np.zeros_like(t_test)),axis=1))\n",
    "#Predict y1 given [X,1]\n",
    "svr_gs_y1_test = svr_gs.predict(np.concatenate((x_test,np.ones_like(t_test)),axis=1))\n",
    "\n",
    "#Calculate ITEs\n",
    "svr_gs_ite_test = svr_gs_y1_test - svr_gs_y0_test \n",
    "\n",
    "svr_gs.best_params_"
   ]
  },
  {
   "cell_type": "markdown",
   "metadata": {
    "id": "EHthhpWZ35AG"
   },
   "source": [
    "##### SVR (IPW) with GridSearchCV"
   ]
  },
  {
   "cell_type": "code",
   "execution_count": 49,
   "metadata": {
    "colab": {
     "base_uri": "https://localhost:8080/"
    },
    "id": "rni1LDtQneva",
    "outputId": "2c0a7057-265c-4a78-c9d8-43482903744a"
   },
   "outputs": [
    {
     "data": {
      "text/plain": [
       "{'C': 100, 'gamma': 0.001, 'kernel': 'rbf'}"
      ]
     },
     "execution_count": 49,
     "metadata": {},
     "output_type": "execute_result"
    }
   ],
   "source": [
    "#Create parameters for Random Forest Classifier\n",
    "params_tree = {\"max_leaf_nodes\": [10, 20, 30, None], \"max_depth\": [5, 10, 20, None]}\n",
    "#GridSearch for RFC\n",
    "w_clf_gs = GridSearchCV(RandomForestClassifier(),param_grid =params_tree,n_jobs=-1,cv=5)\n",
    "weights_gs = f.get_ps_weights(w_clf_gs,x_train,t_train)\n",
    "#GrideSearch for SVR using parameters from last svr\n",
    "svr_ipsw_gs = GridSearchCV(SVR(),param_grid=params_svr,n_jobs=-1,cv=5)\n",
    "svr_ipsw_gs.fit(np.concatenate([x_train,t_train],axis=1), yf_train.flatten(), sample_weight = weights_gs)\n",
    "\n",
    "#Test predictions\n",
    "#Predict y0 given [X,0]\n",
    "svr_ipsw_gs_y0_test = svr_ipsw_gs.predict(np.concatenate([x_test, np.zeros_like(t_test)], axis=1))\n",
    "#Predict y1 given [X,1]\n",
    "svr_ipsw_gs_y1_test = svr_ipsw_gs.predict(np.concatenate([x_test, np.ones_like(t_test)], axis=1))\n",
    "\n",
    "#Calculate ITEs\n",
    "svr_ipsw_gs_ite_test = svr_ipsw_gs_y1_test - svr_ipsw_gs_y0_test\n",
    "svr_ipsw_gs.best_params_"
   ]
  },
  {
   "cell_type": "markdown",
   "metadata": {
    "id": "oUTvOkmb35qp"
   },
   "source": [
    "##### T-Learner (RFR) with GridSearchCV"
   ]
  },
  {
   "cell_type": "code",
   "execution_count": 50,
   "metadata": {
    "colab": {
     "base_uri": "https://localhost:8080/"
    },
    "id": "C-xRjRvUzP_i",
    "outputId": "e03ed9ae-2705-4b41-b93c-5472f4ed5ac4"
   },
   "outputs": [
    {
     "name": "stderr",
     "output_type": "stream",
     "text": [
      "A column-vector y was passed when a 1d array was expected. Please change the shape of y to (n_samples, ), for example using ravel().\n",
      "Function get_feature_names is deprecated; get_feature_names is deprecated in 1.0 and will be removed in 1.2. Please use get_feature_names_out instead.\n"
     ]
    }
   ],
   "source": [
    "#Grid Search\n",
    "rfr = GridSearchCV(RandomForestRegressor(),param_grid=params_tree,n_jobs=-1,cv=5)\n",
    "tl_gs = TLearner(models = rfr)\n",
    "tl_gs.fit(yf_train,t_train,X = x_train)\n",
    "#Predict ITEs\n",
    "tl_gs_ite_test = tl_gs.effect(x_test)"
   ]
  },
  {
   "cell_type": "markdown",
   "metadata": {
    "id": "VPDU-ziUknfp"
   },
   "source": [
    "### Evaluation"
   ]
  },
  {
   "cell_type": "code",
   "execution_count": 51,
   "metadata": {
    "id": "PjRqdGbrkjGO"
   },
   "outputs": [],
   "source": [
    "#Average treatment effect error and precision in estimation of heterogeneous effect for each model trained\n",
    "svr_ate_test = m.abs_ate(ite_test,svr_ite_test)\n",
    "svr_pehe_test = m.pehe(ite_test,svr_ite_test)\n",
    "\n",
    "svr_gs_ate_test = m.abs_ate(ite_test,svr_gs_ite_test)\n",
    "svr_gs_pehe_test = m.pehe(ite_test,svr_gs_ite_test)\n",
    "\n",
    "svr_ipsw_ate_test = m.abs_ate(ite_test,svr_ipsw_ite_test)\n",
    "svr_ipsw_pehe_test = m.pehe(ite_test,svr_ipsw_ite_test)\n",
    "\n",
    "svr_ipsw_gs_ate_test = m.abs_ate(ite_test,svr_ipsw_gs_ite_test)\n",
    "svr_ipsw_gs_pehe_test = m.pehe(ite_test,svr_ipsw_gs_ite_test)\n",
    "\n",
    "tl_ate_test = m.abs_ate(ite_test,tl_ite_test)\n",
    "tl_pehe_test = m.pehe(ite_test,tl_ite_test)\n",
    "\n",
    "tl_gs_ate_test = m.abs_ate(ite_test,tl_gs_ite_test)\n",
    "tl_gs_pehe_test = m.pehe(ite_test,tl_gs_ite_test)"
   ]
  },
  {
   "cell_type": "markdown",
   "metadata": {
    "id": "PMe1kE7xMYHv"
   },
   "source": [
    "Creates table comparing both average treatment effect and precision in estimation of heterogeneous effect for each model trained, allowing the comparison between models."
   ]
  },
  {
   "cell_type": "code",
   "execution_count": 52,
   "metadata": {
    "colab": {
     "base_uri": "https://localhost:8080/",
     "height": 238
    },
    "id": "wVYnzgnDlVhR",
    "outputId": "4ebc7d89-2478-48f8-92be-6bdd28dd0b5e"
   },
   "outputs": [
    {
     "data": {
      "text/html": [
       "\n",
       "  <div id=\"df-544e442d-c0ef-41f1-a6fa-26e13c47dcb1\">\n",
       "    <div class=\"colab-df-container\">\n",
       "      <div>\n",
       "<style scoped>\n",
       "    .dataframe tbody tr th:only-of-type {\n",
       "        vertical-align: middle;\n",
       "    }\n",
       "\n",
       "    .dataframe tbody tr th {\n",
       "        vertical-align: top;\n",
       "    }\n",
       "\n",
       "    .dataframe thead th {\n",
       "        text-align: right;\n",
       "    }\n",
       "</style>\n",
       "<table border=\"1\" class=\"dataframe\">\n",
       "  <thead>\n",
       "    <tr style=\"text-align: right;\">\n",
       "      <th></th>\n",
       "      <th>Method</th>\n",
       "      <th>ATE test</th>\n",
       "      <th>PEHE test</th>\n",
       "    </tr>\n",
       "  </thead>\n",
       "  <tbody>\n",
       "    <tr>\n",
       "      <th>0</th>\n",
       "      <td>SVR</td>\n",
       "      <td>2.486985</td>\n",
       "      <td>2.647361</td>\n",
       "    </tr>\n",
       "    <tr>\n",
       "      <th>1</th>\n",
       "      <td>SVR GS</td>\n",
       "      <td>0.161609</td>\n",
       "      <td>0.893808</td>\n",
       "    </tr>\n",
       "    <tr>\n",
       "      <th>2</th>\n",
       "      <td>SVR (IPW)</td>\n",
       "      <td>2.171886</td>\n",
       "      <td>2.362368</td>\n",
       "    </tr>\n",
       "    <tr>\n",
       "      <th>3</th>\n",
       "      <td>SVR (IPW) GS</td>\n",
       "      <td>0.022090</td>\n",
       "      <td>0.855347</td>\n",
       "    </tr>\n",
       "    <tr>\n",
       "      <th>4</th>\n",
       "      <td>T-Learner (RF)</td>\n",
       "      <td>0.144957</td>\n",
       "      <td>0.623375</td>\n",
       "    </tr>\n",
       "    <tr>\n",
       "      <th>5</th>\n",
       "      <td>T-Learner (RF) GS</td>\n",
       "      <td>0.040479</td>\n",
       "      <td>0.578961</td>\n",
       "    </tr>\n",
       "  </tbody>\n",
       "</table>\n",
       "</div>\n",
       "      <button class=\"colab-df-convert\" onclick=\"convertToInteractive('df-544e442d-c0ef-41f1-a6fa-26e13c47dcb1')\"\n",
       "              title=\"Convert this dataframe to an interactive table.\"\n",
       "              style=\"display:none;\">\n",
       "        \n",
       "  <svg xmlns=\"http://www.w3.org/2000/svg\" height=\"24px\"viewBox=\"0 0 24 24\"\n",
       "       width=\"24px\">\n",
       "    <path d=\"M0 0h24v24H0V0z\" fill=\"none\"/>\n",
       "    <path d=\"M18.56 5.44l.94 2.06.94-2.06 2.06-.94-2.06-.94-.94-2.06-.94 2.06-2.06.94zm-11 1L8.5 8.5l.94-2.06 2.06-.94-2.06-.94L8.5 2.5l-.94 2.06-2.06.94zm10 10l.94 2.06.94-2.06 2.06-.94-2.06-.94-.94-2.06-.94 2.06-2.06.94z\"/><path d=\"M17.41 7.96l-1.37-1.37c-.4-.4-.92-.59-1.43-.59-.52 0-1.04.2-1.43.59L10.3 9.45l-7.72 7.72c-.78.78-.78 2.05 0 2.83L4 21.41c.39.39.9.59 1.41.59.51 0 1.02-.2 1.41-.59l7.78-7.78 2.81-2.81c.8-.78.8-2.07 0-2.86zM5.41 20L4 18.59l7.72-7.72 1.47 1.35L5.41 20z\"/>\n",
       "  </svg>\n",
       "      </button>\n",
       "      \n",
       "  <style>\n",
       "    .colab-df-container {\n",
       "      display:flex;\n",
       "      flex-wrap:wrap;\n",
       "      gap: 12px;\n",
       "    }\n",
       "\n",
       "    .colab-df-convert {\n",
       "      background-color: #E8F0FE;\n",
       "      border: none;\n",
       "      border-radius: 50%;\n",
       "      cursor: pointer;\n",
       "      display: none;\n",
       "      fill: #1967D2;\n",
       "      height: 32px;\n",
       "      padding: 0 0 0 0;\n",
       "      width: 32px;\n",
       "    }\n",
       "\n",
       "    .colab-df-convert:hover {\n",
       "      background-color: #E2EBFA;\n",
       "      box-shadow: 0px 1px 2px rgba(60, 64, 67, 0.3), 0px 1px 3px 1px rgba(60, 64, 67, 0.15);\n",
       "      fill: #174EA6;\n",
       "    }\n",
       "\n",
       "    [theme=dark] .colab-df-convert {\n",
       "      background-color: #3B4455;\n",
       "      fill: #D2E3FC;\n",
       "    }\n",
       "\n",
       "    [theme=dark] .colab-df-convert:hover {\n",
       "      background-color: #434B5C;\n",
       "      box-shadow: 0px 1px 3px 1px rgba(0, 0, 0, 0.15);\n",
       "      filter: drop-shadow(0px 1px 2px rgba(0, 0, 0, 0.3));\n",
       "      fill: #FFFFFF;\n",
       "    }\n",
       "  </style>\n",
       "\n",
       "      <script>\n",
       "        const buttonEl =\n",
       "          document.querySelector('#df-544e442d-c0ef-41f1-a6fa-26e13c47dcb1 button.colab-df-convert');\n",
       "        buttonEl.style.display =\n",
       "          google.colab.kernel.accessAllowed ? 'block' : 'none';\n",
       "\n",
       "        async function convertToInteractive(key) {\n",
       "          const element = document.querySelector('#df-544e442d-c0ef-41f1-a6fa-26e13c47dcb1');\n",
       "          const dataTable =\n",
       "            await google.colab.kernel.invokeFunction('convertToInteractive',\n",
       "                                                     [key], {});\n",
       "          if (!dataTable) return;\n",
       "\n",
       "          const docLinkHtml = 'Like what you see? Visit the ' +\n",
       "            '<a target=\"_blank\" href=https://colab.research.google.com/notebooks/data_table.ipynb>data table notebook</a>'\n",
       "            + ' to learn more about interactive tables.';\n",
       "          element.innerHTML = '';\n",
       "          dataTable['output_type'] = 'display_data';\n",
       "          await google.colab.output.renderOutput(dataTable, element);\n",
       "          const docLink = document.createElement('div');\n",
       "          docLink.innerHTML = docLinkHtml;\n",
       "          element.appendChild(docLink);\n",
       "        }\n",
       "      </script>\n",
       "    </div>\n",
       "  </div>\n",
       "  "
      ],
      "text/plain": [
       "              Method  ATE test  PEHE test\n",
       "0                SVR  2.486985   2.647361\n",
       "1             SVR GS  0.161609   0.893808\n",
       "2          SVR (IPW)  2.171886   2.362368\n",
       "3       SVR (IPW) GS  0.022090   0.855347\n",
       "4     T-Learner (RF)  0.144957   0.623375\n",
       "5  T-Learner (RF) GS  0.040479   0.578961"
      ]
     },
     "execution_count": 52,
     "metadata": {},
     "output_type": "execute_result"
    }
   ],
   "source": [
    "results = []\n",
    "\n",
    "results.append(['SVR', svr_ate_test,svr_pehe_test])\n",
    "results.append(['SVR GS', svr_gs_ate_test,svr_gs_pehe_test])\n",
    "results.append(['SVR (IPW)', svr_ipsw_ate_test,svr_ipsw_pehe_test])\n",
    "results.append(['SVR (IPW) GS', svr_ipsw_gs_ate_test,svr_ipsw_gs_pehe_test])\n",
    "results.append(['T-Learner (RF)', tl_ate_test,tl_pehe_test])\n",
    "results.append(['T-Learner (RF) GS', tl_gs_ate_test,tl_gs_pehe_test])\n",
    "\n",
    "\n",
    "cols = ['Method','ATE test', 'PEHE test']\n",
    "df = pd.DataFrame(results,columns=cols)\n",
    "df"
   ]
  },
  {
   "cell_type": "markdown",
   "metadata": {
    "id": "50vA8qt5MA6W"
   },
   "source": [
    "Create a table that gives the mean of the predicted ITEs along multiple times, allowing us to get closer to the true predicted average of the models implemented and their comparison with the real one."
   ]
  },
  {
   "cell_type": "code",
   "execution_count": 53,
   "metadata": {
    "colab": {
     "base_uri": "https://localhost:8080/",
     "height": 269
    },
    "id": "8iMAuhzCyfNk",
    "outputId": "f4174648-5ba9-48d1-f0bd-e3643c720df8"
   },
   "outputs": [
    {
     "data": {
      "text/html": [
       "\n",
       "  <div id=\"df-4bdf2d37-ea70-45d2-9902-d618bcc1bf1d\">\n",
       "    <div class=\"colab-df-container\">\n",
       "      <div>\n",
       "<style scoped>\n",
       "    .dataframe tbody tr th:only-of-type {\n",
       "        vertical-align: middle;\n",
       "    }\n",
       "\n",
       "    .dataframe tbody tr th {\n",
       "        vertical-align: top;\n",
       "    }\n",
       "\n",
       "    .dataframe thead th {\n",
       "        text-align: right;\n",
       "    }\n",
       "</style>\n",
       "<table border=\"1\" class=\"dataframe\">\n",
       "  <thead>\n",
       "    <tr style=\"text-align: right;\">\n",
       "      <th></th>\n",
       "      <th>Method</th>\n",
       "      <th>ATE mean</th>\n",
       "      <th>CI lower</th>\n",
       "      <th>CI upper</th>\n",
       "    </tr>\n",
       "  </thead>\n",
       "  <tbody>\n",
       "    <tr>\n",
       "      <th>0</th>\n",
       "      <td>SVR</td>\n",
       "      <td>1.462356</td>\n",
       "      <td>1.349162</td>\n",
       "      <td>1.575550</td>\n",
       "    </tr>\n",
       "    <tr>\n",
       "      <th>1</th>\n",
       "      <td>SVR GS</td>\n",
       "      <td>3.787731</td>\n",
       "      <td>3.776608</td>\n",
       "      <td>3.798855</td>\n",
       "    </tr>\n",
       "    <tr>\n",
       "      <th>2</th>\n",
       "      <td>SVR (IPW)</td>\n",
       "      <td>1.777454</td>\n",
       "      <td>1.641418</td>\n",
       "      <td>1.913490</td>\n",
       "    </tr>\n",
       "    <tr>\n",
       "      <th>3</th>\n",
       "      <td>SVR (IPW) GS</td>\n",
       "      <td>3.927250</td>\n",
       "      <td>3.910092</td>\n",
       "      <td>3.944408</td>\n",
       "    </tr>\n",
       "    <tr>\n",
       "      <th>4</th>\n",
       "      <td>TL (RF))</td>\n",
       "      <td>3.804383</td>\n",
       "      <td>3.547608</td>\n",
       "      <td>4.061159</td>\n",
       "    </tr>\n",
       "    <tr>\n",
       "      <th>5</th>\n",
       "      <td>TL (RF)) GS</td>\n",
       "      <td>3.908861</td>\n",
       "      <td>3.659086</td>\n",
       "      <td>4.158636</td>\n",
       "    </tr>\n",
       "    <tr>\n",
       "      <th>6</th>\n",
       "      <td>Real</td>\n",
       "      <td>3.949340</td>\n",
       "      <td>0.000000</td>\n",
       "      <td>0.000000</td>\n",
       "    </tr>\n",
       "  </tbody>\n",
       "</table>\n",
       "</div>\n",
       "      <button class=\"colab-df-convert\" onclick=\"convertToInteractive('df-4bdf2d37-ea70-45d2-9902-d618bcc1bf1d')\"\n",
       "              title=\"Convert this dataframe to an interactive table.\"\n",
       "              style=\"display:none;\">\n",
       "        \n",
       "  <svg xmlns=\"http://www.w3.org/2000/svg\" height=\"24px\"viewBox=\"0 0 24 24\"\n",
       "       width=\"24px\">\n",
       "    <path d=\"M0 0h24v24H0V0z\" fill=\"none\"/>\n",
       "    <path d=\"M18.56 5.44l.94 2.06.94-2.06 2.06-.94-2.06-.94-.94-2.06-.94 2.06-2.06.94zm-11 1L8.5 8.5l.94-2.06 2.06-.94-2.06-.94L8.5 2.5l-.94 2.06-2.06.94zm10 10l.94 2.06.94-2.06 2.06-.94-2.06-.94-.94-2.06-.94 2.06-2.06.94z\"/><path d=\"M17.41 7.96l-1.37-1.37c-.4-.4-.92-.59-1.43-.59-.52 0-1.04.2-1.43.59L10.3 9.45l-7.72 7.72c-.78.78-.78 2.05 0 2.83L4 21.41c.39.39.9.59 1.41.59.51 0 1.02-.2 1.41-.59l7.78-7.78 2.81-2.81c.8-.78.8-2.07 0-2.86zM5.41 20L4 18.59l7.72-7.72 1.47 1.35L5.41 20z\"/>\n",
       "  </svg>\n",
       "      </button>\n",
       "      \n",
       "  <style>\n",
       "    .colab-df-container {\n",
       "      display:flex;\n",
       "      flex-wrap:wrap;\n",
       "      gap: 12px;\n",
       "    }\n",
       "\n",
       "    .colab-df-convert {\n",
       "      background-color: #E8F0FE;\n",
       "      border: none;\n",
       "      border-radius: 50%;\n",
       "      cursor: pointer;\n",
       "      display: none;\n",
       "      fill: #1967D2;\n",
       "      height: 32px;\n",
       "      padding: 0 0 0 0;\n",
       "      width: 32px;\n",
       "    }\n",
       "\n",
       "    .colab-df-convert:hover {\n",
       "      background-color: #E2EBFA;\n",
       "      box-shadow: 0px 1px 2px rgba(60, 64, 67, 0.3), 0px 1px 3px 1px rgba(60, 64, 67, 0.15);\n",
       "      fill: #174EA6;\n",
       "    }\n",
       "\n",
       "    [theme=dark] .colab-df-convert {\n",
       "      background-color: #3B4455;\n",
       "      fill: #D2E3FC;\n",
       "    }\n",
       "\n",
       "    [theme=dark] .colab-df-convert:hover {\n",
       "      background-color: #434B5C;\n",
       "      box-shadow: 0px 1px 3px 1px rgba(0, 0, 0, 0.15);\n",
       "      filter: drop-shadow(0px 1px 2px rgba(0, 0, 0, 0.3));\n",
       "      fill: #FFFFFF;\n",
       "    }\n",
       "  </style>\n",
       "\n",
       "      <script>\n",
       "        const buttonEl =\n",
       "          document.querySelector('#df-4bdf2d37-ea70-45d2-9902-d618bcc1bf1d button.colab-df-convert');\n",
       "        buttonEl.style.display =\n",
       "          google.colab.kernel.accessAllowed ? 'block' : 'none';\n",
       "\n",
       "        async function convertToInteractive(key) {\n",
       "          const element = document.querySelector('#df-4bdf2d37-ea70-45d2-9902-d618bcc1bf1d');\n",
       "          const dataTable =\n",
       "            await google.colab.kernel.invokeFunction('convertToInteractive',\n",
       "                                                     [key], {});\n",
       "          if (!dataTable) return;\n",
       "\n",
       "          const docLinkHtml = 'Like what you see? Visit the ' +\n",
       "            '<a target=\"_blank\" href=https://colab.research.google.com/notebooks/data_table.ipynb>data table notebook</a>'\n",
       "            + ' to learn more about interactive tables.';\n",
       "          element.innerHTML = '';\n",
       "          dataTable['output_type'] = 'display_data';\n",
       "          await google.colab.output.renderOutput(dataTable, element);\n",
       "          const docLink = document.createElement('div');\n",
       "          docLink.innerHTML = docLinkHtml;\n",
       "          element.appendChild(docLink);\n",
       "        }\n",
       "      </script>\n",
       "    </div>\n",
       "  </div>\n",
       "  "
      ],
      "text/plain": [
       "         Method  ATE mean  CI lower  CI upper\n",
       "0           SVR  1.462356  1.349162  1.575550\n",
       "1        SVR GS  3.787731  3.776608  3.798855\n",
       "2     SVR (IPW)  1.777454  1.641418  1.913490\n",
       "3  SVR (IPW) GS  3.927250  3.910092  3.944408\n",
       "4      TL (RF))  3.804383  3.547608  4.061159\n",
       "5   TL (RF)) GS  3.908861  3.659086  4.158636\n",
       "6          Real  3.949340  0.000000  0.000000"
      ]
     },
     "execution_count": 53,
     "metadata": {},
     "output_type": "execute_result"
    }
   ],
   "source": [
    "svr_ate_bounds = f.mean_ci(svr_ite_test)\n",
    "svr_gs_ate_bounds = f.mean_ci(svr_gs_ite_test)\n",
    "svr_ipsw_ate_bounds = f.mean_ci(svr_ipsw_ite_test)\n",
    "svr_ipsw_gs_ate_bounds = f.mean_ci(svr_ipsw_gs_ite_test)\n",
    "tl_ate_bounds = f.mean_ci(tl_ite_test)\n",
    "tl_gs_ate_bounds = f.mean_ci(tl_gs_ite_test)\n",
    "\n",
    "results = []\n",
    "results.append(['SVR', svr_ate_bounds[0], svr_ate_bounds[1], svr_ate_bounds[2]])\n",
    "results.append(['SVR GS', svr_gs_ate_bounds[0], svr_gs_ate_bounds[1], svr_gs_ate_bounds[2]])\n",
    "results.append(['SVR (IPW)', svr_ipsw_ate_bounds[0], svr_ipsw_ate_bounds[1], svr_ipsw_ate_bounds[2]])\n",
    "results.append(['SVR (IPW) GS', svr_ipsw_gs_ate_bounds[0], svr_ipsw_gs_ate_bounds[1], svr_ipsw_gs_ate_bounds[2]])\n",
    "results.append(['TL (RF))', tl_ate_bounds[0], tl_ate_bounds[1], tl_ate_bounds[2]])\n",
    "results.append(['TL (RF)) GS', tl_gs_ate_bounds[0], tl_gs_ate_bounds[1], tl_gs_ate_bounds[2]])\n",
    "results.append(['Real', np.mean(ite_test),0 , 0])\n",
    "\n",
    "cols = ['Method', 'ATE mean', 'CI lower', 'CI upper']\n",
    "\n",
    "df = pd.DataFrame(results, columns=cols)\n",
    "df"
   ]
  },
  {
   "cell_type": "markdown",
   "metadata": {
    "id": "Yk6Oc3dWLahE"
   },
   "source": [
    "The following boxplot depicts in a graphical the likelyhood between the predictions the models created and the true effect, note that the T-Learner GS (the tuned one) is the one with shape closest to the true effect."
   ]
  },
  {
   "cell_type": "code",
   "execution_count": 54,
   "metadata": {
    "colab": {
     "base_uri": "https://localhost:8080/",
     "height": 592
    },
    "id": "-H-yeiXmc1vN",
    "outputId": "9ad4fd27-cc83-4d4d-f097-0d3770d0b44d"
   },
   "outputs": [
    {
     "data": {
      "image/png": "[encoded data removed]",
      "text/plain": [
       "<Figure size 864x720 with 1 Axes>"
      ]
     },
     "metadata": {
      "needs_background": "light"
     },
     "output_type": "display_data"
    }
   ],
   "source": [
    "plt.figure(figsize=(12, 10))\n",
    "plt.boxplot([ite_test,svr_ite_test,svr_gs_ite_test, svr_ipsw_ite_test,svr_ipsw_gs_ite_test, tl_ite_test,tl_gs_ite_test], labels=['REAL','SVR','SVR GS', 'SVR (IPW)','SVR (IPW) GS', 'T-learner','T-learner GS'])\n",
    "plt.ylabel('Treatment Effect')\n",
    "\n",
    "plt.show()"
   ]
  }
 ],
 "metadata": {
  "colab": {
   "collapsed_sections": [
    "Wacia8hvFREl",
    "P2rhCgGbFXtb",
    "1qtbCgjYIh7g"
   ],
   "name": "IHDP.ipynb",
   "provenance": []
  },
  "kernelspec": {
   "display_name": "Python 3 (ipykernel)",
   "language": "python",
   "name": "python3"
  },
  "language_info": {
   "codemirror_mode": {
    "name": "ipython",
    "version": 3
   },
   "file_extension": ".py",
   "mimetype": "text/x-python",
   "name": "python",
   "nbconvert_exporter": "python",
   "pygments_lexer": "ipython3",
   "version": "3.9.13"
  }
 },
 "nbformat": 4,
 "nbformat_minor": 1
}
