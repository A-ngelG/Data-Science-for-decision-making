{
 "cells": [
  {
   "cell_type": "code",
   "execution_count": 2,
   "metadata": {
    "id": "EjkXbv0G3lRu"
   },
   "outputs": [],
   "source": [
    "import matplotlib\n",
    "import pandas as pd\n",
    "import seaborn as sns\n",
    "import numpy as np"
   ]
  },
  {
   "cell_type": "code",
   "execution_count": 3,
   "metadata": {
    "colab": {
     "base_uri": "https://localhost:8080/"
    },
    "id": "zQ9F9BVC67gn",
    "outputId": "a7ca7215-b390-44a9-a11d-fdbd41f07a55"
   },
   "outputs": [
    {
     "name": "stdout",
     "output_type": "stream",
     "text": [
      "        1     2     3     4     5     6     7     8     9     10   ...   91   \\\n",
      "0     -7.82  8.79 -9.66 -8.16 -7.52 -8.50 -9.85  4.17 -8.98 -4.76  ...  2.82   \n",
      "1      4.08 -0.29  6.36  4.37 -2.38 -9.66 -0.73 -5.34  8.88  9.22  ...  2.82   \n",
      "2       NaN   NaN   NaN   NaN  9.03  9.27  9.03  9.27   NaN   NaN  ...   NaN   \n",
      "3       NaN  8.35   NaN   NaN  1.80  8.16 -2.82  6.21   NaN  1.84  ...   NaN   \n",
      "4      8.50  4.61 -4.17 -5.39  1.36  1.60  7.04  4.61 -0.44  5.73  ...  5.19   \n",
      "...     ...   ...   ...   ...   ...   ...   ...   ...   ...   ...  ...   ...   \n",
      "24978  0.44  7.43  9.08  2.33  3.20  6.75 -8.79 -0.53 -8.74  7.23  ...  8.83   \n",
      "24979  9.13 -8.16  8.59  9.08  0.87 -8.93 -3.50  5.78 -8.11  4.90  ... -1.17   \n",
      "24980   NaN   NaN   NaN   NaN -7.77   NaN  6.70 -6.75   NaN   NaN  ...   NaN   \n",
      "24981   NaN   NaN   NaN   NaN -9.71   NaN  4.56 -8.30   NaN   NaN  ...   NaN   \n",
      "24982  2.43  2.67 -3.98  4.27 -2.28  7.33  2.33  4.56  6.75  4.61  ...   NaN   \n",
      "\n",
      "        92    93    94    95    96    97    98    99    100  \n",
      "0       NaN   NaN   NaN   NaN   NaN -5.63   NaN   NaN   NaN  \n",
      "1     -4.95 -0.29  7.86 -0.19 -2.14  3.06  0.34 -4.32  1.07  \n",
      "2       NaN   NaN  9.08   NaN   NaN   NaN   NaN   NaN   NaN  \n",
      "3       NaN   NaN  0.53   NaN   NaN   NaN   NaN   NaN   NaN  \n",
      "4      5.58  4.27  5.19  5.73  1.55  3.11  6.55  1.80  1.60  \n",
      "...     ...   ...   ...   ...   ...   ...   ...   ...   ...  \n",
      "24978 -1.21  9.22 -6.70  8.45  9.03  6.55  8.69  8.79  7.43  \n",
      "24979 -5.73 -1.46  0.24  9.22 -8.20 -7.23 -8.59  9.13  8.45  \n",
      "24980   NaN   NaN   NaN   NaN   NaN   NaN   NaN   NaN   NaN  \n",
      "24981   NaN   NaN   NaN   NaN   NaN   NaN   NaN   NaN   NaN  \n",
      "24982   NaN   NaN   NaN   NaN   NaN   NaN   NaN   NaN   NaN  \n",
      "\n",
      "[24983 rows x 100 columns]\n"
     ]
    }
   ],
   "source": [
    "# Load the data\n",
    "df = pd.read_csv('https://raw.githubusercontent.com/albanda/CE888/master/lab4-recommender/jester-data-1.csv',na_values=[\"99.00\"],header=None)\n",
    "df = df.iloc[:,1:]\n",
    "print(df)"
   ]
  },
  {
   "cell_type": "code",
   "execution_count": 4,
   "metadata": {
    "colab": {
     "base_uri": "https://localhost:8080/"
    },
    "id": "t0Vf0hCb-1Kh",
    "outputId": "44f550b7-c36e-474e-dcc3-06a5c9b79a64"
   },
   "outputs": [
    {
     "data": {
      "text/plain": [
       "-1.65"
      ]
     },
     "execution_count": 4,
     "metadata": {},
     "output_type": "execute_result"
    }
   ],
   "source": [
    "df.iloc[15827,90]"
   ]
  },
  {
   "cell_type": "code",
   "execution_count": 5,
   "metadata": {
    "colab": {
     "base_uri": "https://localhost:8080/"
    },
    "id": "Y5-bc3mJB6Is",
    "outputId": "a5b701ed-945b-4479-acc2-e89cde3ee1d6"
   },
   "outputs": [
    {
     "name": "stdout",
     "output_type": "stream",
     "text": [
      "[9.37, 9.37, 9.37, 9.37, 9.37, 9.47, 9.61, 9.76, 9.9, 9.37, 9.61, 9.85, 9.37, 9.56, 9.9, 9.37, 9.37, 9.81, 9.56, 9.37, 9.56, 9.85, 9.85, 9.81, 9.37, 9.37, 9.42, 9.42, 9.37, 9.37, 9.37, 9.9, 9.37, 9.37, 9.9, 9.85, 9.37, 9.56, 9.76, 9.37, 9.37, 9.85, 9.42, 9.37, 10.0, 9.66, 9.81, 9.37, 9.9, 9.95, 9.37, 9.66, 9.71, 9.51, 9.95, 9.37, 9.37, 9.42, 9.37, 9.37, 9.37, 9.85, 9.47, 9.37, 9.85, 10.0, 9.37, 9.71, 9.76, 9.37, 9.37, 9.37, 9.37, 9.37, 9.37, 9.37, 9.37, 9.37, 9.37, 9.81, 9.37, 9.37, 9.37, 9.37, 9.37, 9.37, 9.37, 9.47, 9.42, 9.37, 9.56, 9.42, 9.37, 9.42, 9.37, 9.37, 9.37, 9.37, 9.37, 9.37]\n"
     ]
    },
    {
     "data": {
      "text/plain": [
       "10.0"
      ]
     },
     "execution_count": 5,
     "metadata": {},
     "output_type": "execute_result"
    }
   ],
   "source": [
    "print(df.max().tolist())\n",
    "df[45].max()"
   ]
  },
  {
   "cell_type": "code",
   "execution_count": 6,
   "metadata": {
    "colab": {
     "base_uri": "https://localhost:8080/"
    },
    "id": "qEUXF8PsD6WM",
    "outputId": "82aaa7b3-553c-49c7-ae87-3ba56b2fdf27"
   },
   "outputs": [
    {
     "name": "stdout",
     "output_type": "stream",
     "text": [
      "        1     2     3     4     5     6     7     8     9     10   ...   91   \\\n",
      "0     -7.82  8.79 -9.66 -8.16 -7.52 -8.50 -9.85  4.17 -8.98 -4.76  ...  2.82   \n",
      "1      4.08 -0.29  6.36  4.37 -2.38 -9.66 -0.73 -5.34  8.88  9.22  ...  2.82   \n",
      "2       NaN   NaN   NaN   NaN  9.03  9.27  9.03  9.27   NaN   NaN  ...   NaN   \n",
      "3       NaN  8.35   NaN   NaN  1.80  8.16 -2.82  6.21   NaN  1.84  ...   NaN   \n",
      "4      8.50  4.61 -4.17 -5.39  1.36  1.60  7.04  4.61 -0.44  5.73  ...  5.19   \n",
      "...     ...   ...   ...   ...   ...   ...   ...   ...   ...   ...  ...   ...   \n",
      "24978  0.44  7.43  9.08  2.33  3.20  6.75 -8.79 -0.53 -8.74  7.23  ...  8.83   \n",
      "24979  9.13 -8.16  8.59  9.08  0.87 -8.93 -3.50  5.78 -8.11  4.90  ... -1.17   \n",
      "24980   NaN   NaN   NaN   NaN -7.77   NaN  6.70 -6.75   NaN   NaN  ...   NaN   \n",
      "24981   NaN   NaN   NaN   NaN -9.71   NaN  4.56 -8.30   NaN   NaN  ...   NaN   \n",
      "24982  2.43  2.67 -3.98  4.27 -2.28  7.33  2.33  4.56  6.75  4.61  ...   NaN   \n",
      "\n",
      "        92    93    94    95    96    97    98    99    100  \n",
      "0       NaN   NaN   NaN   NaN   NaN -5.63   NaN   NaN   NaN  \n",
      "1     -4.95 -0.29  7.86 -0.19 -2.14  3.06  0.34 -4.32  1.07  \n",
      "2       NaN   NaN  9.08   NaN   NaN   NaN   NaN   NaN   NaN  \n",
      "3       NaN   NaN  0.53   NaN   NaN   NaN   NaN   NaN   NaN  \n",
      "4      5.58  4.27  5.19  5.73  1.55  3.11  6.55  1.80  1.60  \n",
      "...     ...   ...   ...   ...   ...   ...   ...   ...   ...  \n",
      "24978 -1.21  9.22 -6.70  8.45  9.03  6.55  8.69  8.79  7.43  \n",
      "24979 -5.73 -1.46  0.24  9.22 -8.20 -7.23 -8.59  9.13  8.45  \n",
      "24980   NaN   NaN   NaN   NaN   NaN   NaN   NaN   NaN   NaN  \n",
      "24981   NaN   NaN   NaN   NaN   NaN   NaN   NaN   NaN   NaN  \n",
      "24982   NaN   NaN   NaN   NaN   NaN   NaN   NaN   NaN   NaN  \n",
      "\n",
      "[24983 rows x 100 columns]\n"
     ]
    }
   ],
   "source": [
    "# Load the data\n",
    "df = pd.read_csv('https://raw.githubusercontent.com/albanda/CE888/master/lab4-recommender/jester-data-1.csv',na_values=[\"99.00\"],header=None)\n",
    "df = df.iloc[:,1:]\n",
    "print(df)"
   ]
  }
 ],
 "metadata": {
  "colab": {
   "name": "my_recommender.ipynb",
   "provenance": []
  },
  "kernelspec": {
   "display_name": "Python 3 (ipykernel)",
   "language": "python",
   "name": "python3"
  },
  "language_info": {
   "codemirror_mode": {
    "name": "ipython",
    "version": 3
   },
   "file_extension": ".py",
   "mimetype": "text/x-python",
   "name": "python",
   "nbconvert_exporter": "python",
   "pygments_lexer": "ipython3",
   "version": "3.9.13"
  }
 },
 "nbformat": 4,
 "nbformat_minor": 1
}
